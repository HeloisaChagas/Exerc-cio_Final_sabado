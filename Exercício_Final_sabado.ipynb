{
  "nbformat": 4,
  "nbformat_minor": 0,
  "metadata": {
    "colab": {
      "provenance": [],
      "include_colab_link": true
    },
    "kernelspec": {
      "name": "python3",
      "display_name": "Python 3"
    },
    "language_info": {
      "name": "python"
    }
  },
  "cells": [
    {
      "cell_type": "markdown",
      "metadata": {
        "id": "view-in-github",
        "colab_type": "text"
      },
      "source": [
        "<a href=\"https://colab.research.google.com/github/HeloisaChagas/Exerc-cio_Final_sabado/blob/main/Exerc%C3%ADcio_Final_sabado.ipynb\" target=\"_parent\"><img src=\"https://colab.research.google.com/assets/colab-badge.svg\" alt=\"Open In Colab\"/></a>"
      ]
    },
    {
      "cell_type": "markdown",
      "source": [
        "# Contagem de Medalhas\n",
        "\n",
        "Crie um programa que receba o número de medalhas de ouro, prata e bronze de um país nas Olimpíadas e calcule o total de medalhas.\n",
        "Quando escrever 'sair', o programa deverá encerrar e mostrar na tela o ranking de medalhas no formato:"
      ],
      "metadata": {
        "id": "RQN1e5FZY6SZ"
      }
    },
    {
      "cell_type": "code",
      "source": [
        "#Ranking de medalhas:\n",
        "#Brasil: 7 medalhas\n",
        "#França: 6 medalhas\n",
        "#Argentina: 3 medalhas"
      ],
      "metadata": {
        "id": "gCq_KLHzZSzb"
      },
      "execution_count": null,
      "outputs": []
    },
    {
      "cell_type": "code",
      "execution_count": 1,
      "metadata": {
        "id": "AJJhjxiPTd5s",
        "colab": {
          "base_uri": "https://localhost:8080/"
        },
        "outputId": "0c94e905-8593-4066-bdb7-b442f58dc6a5"
      },
      "outputs": [
        {
          "output_type": "stream",
          "name": "stdout",
          "text": [
            "Digite o nome do país (ou 'sair' para encerrar): França\n",
            "Digite o número de medalhas de ouro para França: 8\n",
            "Digite o número de medalhas de prata para França: 2\n",
            "Digite o número de medalhas de bronze para França: 2\n",
            "O total de medalhas para França é: 12\n",
            "\n",
            "Digite o nome do país (ou 'sair' para encerrar): Brasil\n",
            "Digite o número de medalhas de ouro para Brasil: 7\n",
            "Digite o número de medalhas de prata para Brasil: 2\n",
            "Digite o número de medalhas de bronze para Brasil: 1\n",
            "O total de medalhas para Brasil é: 10\n",
            "\n",
            "Digite o nome do país (ou 'sair' para encerrar): Itália\n",
            "Digite o número de medalhas de ouro para Itália: 5\n",
            "Digite o número de medalhas de prata para Itália: 3\n",
            "Digite o número de medalhas de bronze para Itália: 0\n",
            "O total de medalhas para Itália é: 8\n",
            "\n",
            "Digite o nome do país (ou 'sair' para encerrar): sair\n",
            "\n",
            "#Ranking de medalhas:\n",
            "#França: 12 medalhas\n",
            "#Brasil: 10 medalhas\n",
            "#Itália: 8 medalhas\n"
          ]
        }
      ],
      "source": [
        "# Resposta aqui\n",
        "\n",
        "def calcular_total_medalhas(ouro, prata, bronze):\n",
        "    return ouro + prata + bronze\n",
        "\n",
        "def exibir_ranking_medalhas(paises_medalhas):\n",
        "    print(\"\\n#Ranking de medalhas:\")\n",
        "    ranking = sorted(paises_medalhas.items(), key=lambda item: item[1], reverse=True)\n",
        "    for i, (pais, medalhas) in enumerate(ranking, start=1):\n",
        "        print(f\"#{pais}: {medalhas} medalhas\")\n",
        "\n",
        "def main():\n",
        "    paises_medalhas = {}\n",
        "\n",
        "    while True:\n",
        "        pais = input(\"Digite o nome do país (ou 'sair' para encerrar): \")\n",
        "        if pais.lower() == 'sair':\n",
        "            break\n",
        "        try:\n",
        "            ouro = int(input(f\"Digite o número de medalhas de ouro para {pais}: \"))\n",
        "            prata = int(input(f\"Digite o número de medalhas de prata para {pais}: \"))\n",
        "            bronze = int(input(f\"Digite o número de medalhas de bronze para {pais}: \"))\n",
        "\n",
        "            total_medalhas = calcular_total_medalhas(ouro, prata, bronze)\n",
        "            paises_medalhas[pais] = total_medalhas\n",
        "            print(f\"O total de medalhas para {pais} é: {total_medalhas}\\n\")\n",
        "\n",
        "        except ValueError:\n",
        "            print(\"Por favor, insira valores válidos para as medalhas.\\n\")\n",
        "\n",
        "    exibir_ranking_medalhas(paises_medalhas)\n",
        "\n",
        "if __name__ == \"__main__\":\n",
        "    main()\n",
        "\n",
        "\n"
      ]
    }
  ]
}